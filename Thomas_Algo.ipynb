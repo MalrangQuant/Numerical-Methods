{
 "cells": [
  {
   "cell_type": "markdown",
   "metadata": {},
   "source": [
    "# Thomas Algorithm\n",
    "\n",
    "Through Tridiagonal Matrix Algorithm, Find Solution Vector without Inverse Matrix\n",
    "\n"
   ]
  },
  {
   "cell_type": "code",
   "execution_count": 1,
   "metadata": {},
   "outputs": [],
   "source": [
    "import numpy as np"
   ]
  },
  {
   "cell_type": "code",
   "execution_count": 2,
   "metadata": {},
   "outputs": [],
   "source": [
    "def TDMASolve(a, b, c, d):\n",
    "    n = len(a)\n",
    "    ac, bc, cc, dc = map(np.array, (a, b, c, d))\n",
    "    xc = []\n",
    "    for j in range(1, n):\n",
    "        if(bc[j - 1] == 0):\n",
    "            ier = 1\n",
    "            return\n",
    "        ac[j] = ac[j]/bc[j-1]\n",
    "        bc[j] = bc[j] - ac[j]*cc[j-1]\n",
    "    if(b[n-1] == 0):\n",
    "        ier = 1\n",
    "        return\n",
    "    for j in range(1, n):\n",
    "        dc[j] = dc[j] - ac[j]*dc[j-1]\n",
    "    dc[n-1] = dc[n-1]/bc[n-1]\n",
    "    for j in range(n-2, -1, -1):\n",
    "        dc[j] = (dc[j] - cc[j]*dc[j+1])/bc[j]\n",
    "    return dc"
   ]
  },
  {
   "cell_type": "code",
   "execution_count": 3,
   "metadata": {},
   "outputs": [],
   "source": [
    "d = np.array([2, -1, 0.5, 2.3, -5, 0.25])"
   ]
  },
  {
   "cell_type": "code",
   "execution_count": 4,
   "metadata": {},
   "outputs": [
    {
     "data": {
      "text/plain": [
       "array([ 2.  , -1.  ,  0.5 ,  2.3 , -5.  ,  0.25])"
      ]
     },
     "execution_count": 4,
     "metadata": {},
     "output_type": "execute_result"
    }
   ],
   "source": [
    "d"
   ]
  }
 ],
 "metadata": {
  "kernelspec": {
   "display_name": "Python 3.9.12 64-bit",
   "language": "python",
   "name": "python3"
  },
  "language_info": {
   "codemirror_mode": {
    "name": "ipython",
    "version": 3
   },
   "file_extension": ".py",
   "mimetype": "text/x-python",
   "name": "python",
   "nbconvert_exporter": "python",
   "pygments_lexer": "ipython3",
   "version": "3.9.12"
  },
  "orig_nbformat": 4,
  "vscode": {
   "interpreter": {
    "hash": "b0fa6594d8f4cbf19f97940f81e996739fb7646882a419484c72d19e05852a7e"
   }
  }
 },
 "nbformat": 4,
 "nbformat_minor": 2
}
