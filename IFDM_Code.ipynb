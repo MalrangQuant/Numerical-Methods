{
 "cells": [
  {
   "cell_type": "code",
   "execution_count": 12,
   "metadata": {},
   "outputs": [],
   "source": [
    "import numpy as np\n",
    "import scipy.stats as stats"
   ]
  },
  {
   "cell_type": "code",
   "execution_count": 21,
   "metadata": {},
   "outputs": [],
   "source": [
    "def bsprice (cp_flag:str, x:np.array, T, K, r, q, sigma):\n",
    "\n",
    "    N = stats.norm.cdf\n",
    "    n = stats.norm.pdf\n",
    "\n",
    "    d1 = (np.log(x/K) + (r - q + (sigma**2)/2) * T) / (sigma * np.sqrt(T))\n",
    "    d2 = d1 - sigma*np.sqrt(T)\n",
    "\n",
    "    if cp_flag == 'c':\n",
    "        price = x * N(d1) - K*np.exp(-r*T)*N(d2)\n",
    "    \n",
    "    else:\n",
    "        price = K * np.exp(-r*T)*N(-d2) - x*np.exp(-q*T)*N(-d1)\n",
    "\n",
    "    return price            # returns array\n"
   ]
  },
  {
   "cell_type": "code",
   "execution_count": 22,
   "metadata": {},
   "outputs": [
    {
     "data": {
      "text/plain": [
       "array([ 0.68887286, 10.24690095, 90.24690088,  1.49051685])"
      ]
     },
     "execution_count": 22,
     "metadata": {},
     "output_type": "execute_result"
    }
   ],
   "source": [
    "x = np.array([10, 20, 100, 11.1])\n",
    "PutCall = 'C'\n",
    "K = 10\n",
    "rf = 0.05\n",
    "q = 0\n",
    "sigma = 0.2\n",
    "T = 0.5\n",
    "\n",
    "bsprice('c', x, T, K, rf, q ,sigma)"
   ]
  },
  {
   "cell_type": "code",
   "execution_count": 10,
   "metadata": {},
   "outputs": [
    {
     "data": {
      "text/plain": [
       "array([ 0.15      ,  2.4604906 , 15.50056729,  0.4677006 ])"
      ]
     },
     "execution_count": 10,
     "metadata": {},
     "output_type": "execute_result"
    }
   ],
   "source": [
    "x = np.array([1, 2, 100, 1.1])\n",
    "\n",
    "T = 1\n",
    "K = 1\n",
    "rf = 1\n",
    "q = 1\n",
    "sigma = 0.3\n",
    "\n",
    "d1 =(1/(sigma*np.sqrt(T)))*(np.log(x/K) + (rf - q + 0.5*sigma**2)*T)\n",
    "d1"
   ]
  }
 ],
 "metadata": {
  "kernelspec": {
   "display_name": "Python 3.8.13 ('quant')",
   "language": "python",
   "name": "python3"
  },
  "language_info": {
   "codemirror_mode": {
    "name": "ipython",
    "version": 3
   },
   "file_extension": ".py",
   "mimetype": "text/x-python",
   "name": "python",
   "nbconvert_exporter": "python",
   "pygments_lexer": "ipython3",
   "version": "3.8.13"
  },
  "orig_nbformat": 4,
  "vscode": {
   "interpreter": {
    "hash": "e7b6214bfe3ce19b2336b5ee82fe9739f68968628bd5eb86b17deae08d37c2fd"
   }
  }
 },
 "nbformat": 4,
 "nbformat_minor": 2
}
