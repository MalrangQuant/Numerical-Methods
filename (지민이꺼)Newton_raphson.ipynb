{
 "cells": [
  {
   "cell_type": "markdown",
   "metadata": {},
   "source": [
    "## Newton- Raphson Method Algorithm"
   ]
  },
  {
   "cell_type": "code",
   "execution_count": 1,
   "metadata": {},
   "outputs": [],
   "source": [
    "import numpy as np\n",
    "import pandas as pd\n",
    "import math\n",
    "from scipy.stats import norm\n"
   ]
  },
  {
   "cell_type": "code",
   "execution_count": 2,
   "metadata": {},
   "outputs": [],
   "source": [
    "N=norm.cdf\n",
    "\n",
    "def d1(s,k,t,r,q,sigma):\n",
    "    return (np.log(s/k)+((r-q+0.5*sigma**2)/2)*t)/sigma*np.sqrt(t)\n",
    "\n",
    "\n",
    "def d2(s,k,t,r,q,sigma):\n",
    "    return d1(s,k,t,r,q,sigma)-sigma*np.sqrt(t)\n",
    "\n",
    "def delta_call(s,k,t,r,q,sigma):\n",
    "    N=norm.cdf\n",
    "    return N(d1(s,k,t,r,q,sigma))\n",
    "\n",
    "def delta_put(s, k, t, r, q,sigma):\n",
    "    return - N(-d1(s, k, t, r,q, sigma))\n",
    "\n",
    "\n",
    "def bsm_call(s,k,t,r,q,sigma):\n",
    "    N=norm.cdf\n",
    "\n",
    "    call=s*np.exp(-q*t)*N(d1(s,k,t,r,q,sigma))-N(d2(s,k,t,r,q,sigma))*k*np.exp(-r*t)\n",
    "    return call\n",
    "\n",
    "def bsm_put(s,k,t,r,q,sigma):\n",
    "    N=norm.cdf\n",
    "\n",
    "    put=N(-d2(s,k,t,r,q,sigma))*k*np.exp(-r*t)-s*np.exp(-q*t)*N(-d1(s,k,t,r,q,sigma))\n",
    "    return put\n",
    "\n",
    "\n",
    "def vega(s,k,t,r,q,sigma):\n",
    "    N_prime=norm.pdf\n",
    "    vega=s*np.sqrt(t)*N_prime(d1(s,k,t,r,q,sigma))*(np.exp(-q*t))\n",
    "    return vega        \n"
   ]
  },
  {
   "cell_type": "code",
   "execution_count": 43,
   "metadata": {},
   "outputs": [],
   "source": [
    "def implied_vol_call(c,s,k,t,r,q,tol=0.000001,max_iternations=100):\n",
    "    \n",
    "    sigma=0.5\n",
    "\n",
    "    for i in range(max_iternations):\n",
    "    \n",
    "        diff = c - bsm_call(s,k,t,r,q,sigma)  ## =f(sigma)\n",
    "\n",
    "        if abs(diff)<tol:\n",
    "            print(f'found on {i}th iteration')\n",
    "            print(f'difference is equal to {diff}')\n",
    "            break\n",
    "\n",
    "        sigma=sigma+diff/vega(s,k,t,r,q,sigma)\n",
    "        \n",
    "    return sigma"
   ]
  },
  {
   "cell_type": "code",
   "execution_count": null,
   "metadata": {},
   "outputs": [],
   "source": []
  },
  {
   "cell_type": "code",
   "execution_count": 32,
   "metadata": {},
   "outputs": [],
   "source": [
    "def implied_vol_put(p,s,k,t,r,q,tol=0.000001,max_iternations=100):\n",
    "    sigma=0.5\n",
    "    for i in range(max_iternations):\n",
    "        diff=bsm_put(s,k,t,r,q,sigma)-p  ## =f(sigma)\n",
    "\n",
    "        if abs(diff)<tol:\n",
    "            print(f'found on {i}th iteration')\n",
    "            print(f'difference is equal to {diff}')\n",
    "            break\n",
    "\n",
    "        sigma=sigma-diff/vega(s,k,t,r,q,sigma)\n",
    "        \n",
    "    return sigma"
   ]
  },
  {
   "cell_type": "code",
   "execution_count": 44,
   "metadata": {},
   "outputs": [],
   "source": [
    "#p=8.13\n",
    "c=14\n",
    "s=273.55\n",
    "k=260    \n",
    "t=10/360\n",
    "r=0.0155\n",
    "\n",
    "q=0"
   ]
  },
  {
   "cell_type": "code",
   "execution_count": 45,
   "metadata": {},
   "outputs": [
    {
     "name": "stdout",
     "output_type": "stream",
     "text": [
      "found on 6th iteration\n",
      "difference is equal to -1.2361483925360517e-07\n"
     ]
    },
    {
     "data": {
      "text/plain": [
       "0.4082677857859284"
      ]
     },
     "execution_count": 45,
     "metadata": {},
     "output_type": "execute_result"
    }
   ],
   "source": [
    "implied_vol_call(c,s,k,t,r,q)"
   ]
  },
  {
   "cell_type": "code",
   "execution_count": 7,
   "metadata": {},
   "outputs": [],
   "source": [
    "p=8.13\n",
    "#c=14\n",
    "s=415.89    \n",
    "k=420\n",
    "t=42/360\n",
    "r=0.0092\n",
    "\n",
    "q=0"
   ]
  },
  {
   "cell_type": "code",
   "execution_count": 8,
   "metadata": {},
   "outputs": [
    {
     "name": "stdout",
     "output_type": "stream",
     "text": [
      "found on 3th iteration\n",
      "difference is equal to -3.22654098994235e-08\n"
     ]
    },
    {
     "data": {
      "text/plain": [
       "0.10961645490522749"
      ]
     },
     "execution_count": 8,
     "metadata": {},
     "output_type": "execute_result"
    }
   ],
   "source": [
    "implied_vol_put(p,s,k,t,r,q)"
   ]
  },
  {
   "cell_type": "code",
   "execution_count": 9,
   "metadata": {},
   "outputs": [],
   "source": [
    "#implied_vol_put(p,s,k,t,r,q)"
   ]
  }
 ],
 "metadata": {
  "kernelspec": {
   "display_name": "Python 3.8.13 ('quant')",
   "language": "python",
   "name": "python3"
  },
  "language_info": {
   "codemirror_mode": {
    "name": "ipython",
    "version": 3
   },
   "file_extension": ".py",
   "mimetype": "text/x-python",
   "name": "python",
   "nbconvert_exporter": "python",
   "pygments_lexer": "ipython3",
   "version": "3.8.13"
  },
  "orig_nbformat": 4,
  "vscode": {
   "interpreter": {
    "hash": "e7b6214bfe3ce19b2336b5ee82fe9739f68968628bd5eb86b17deae08d37c2fd"
   }
  }
 },
 "nbformat": 4,
 "nbformat_minor": 2
}
