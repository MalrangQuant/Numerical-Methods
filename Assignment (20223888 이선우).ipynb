{
 "cells": [
  {
   "cell_type": "markdown",
   "metadata": {},
   "source": [
    "# 1. Implied Volatility"
   ]
  },
  {
   "cell_type": "code",
   "execution_count": 2,
   "metadata": {},
   "outputs": [],
   "source": [
    "import pandas as pd\n",
    "import numpy as np\n",
    "import datetime as dt\n",
    "from scipy.stats import norm\n",
    "from dateutil import relativedelta\n",
    "from warnings import filterwarnings\n",
    "filterwarnings(\"ignore\")\n",
    "\n",
    "def imp_vol_cal (cp_flag, option_price, S0, K, T, r, q=0):\n",
    "    \n",
    "    log = np.log\n",
    "    sqrt = np.sqrt\n",
    "    exp = np.exp\n",
    "    n = norm.pdf\n",
    "    N = norm.cdf\n",
    "\n",
    "    def find_price(cp_flag, S0, K, T, r, vol, q=0):\n",
    "        \n",
    "        d1 = (log(S0/K) + (r - q + (vol**2)/2) * T) / (vol * sqrt(T))\n",
    "        d2 = d1 - vol*sqrt(T)\n",
    "\n",
    "        if cp_flag == 'c':\n",
    "            price = S0 * N(d1) - K*exp(-r*T)*N(d2)\n",
    "        \n",
    "        else:\n",
    "            price = K * exp(-r*T)*N(-d2) - S0*exp(-q*T)*N(-d1)\n",
    "\n",
    "        return price\n",
    "\n",
    "    def vega_func (cp_flag, S0, K, T, r, vol, q=0):\n",
    "\n",
    "        d1 = (log(S0/K) + (r + (vol**2)/2) * T) / (vol * sqrt(T))\n",
    "\n",
    "        return S0 * sqrt(T) * n(d1)\n",
    "\n",
    "    '''use above functions with Newton_Raphson_method'''\n",
    "\n",
    "    MAX_ITERATIONS = 100\n",
    "    ERROR = 10e-6\n",
    "\n",
    "    VOL = 0.5 #Initial Volatility\n",
    "\n",
    "    for NUM_ITERATIONS in range(0, MAX_ITERATIONS):\n",
    "        \n",
    "        price = find_price(cp_flag, S0, K, T, r, VOL, q=0)\n",
    "        vega = vega_func(cp_flag, S0, K, T, r, VOL, q=0)\n",
    "\n",
    "        diff = option_price - price\n",
    "\n",
    "        if abs(diff) > ERROR:\n",
    "            VOL = VOL + diff/vega  #price? diff?\n",
    "\n",
    "        else:\n",
    "            return print(f'IV = {round(VOL, 4) * 100}%', f'Iteration Num = {NUM_ITERATIONS}', f'Error = {diff}\\n', sep='\\n')\n",
    "\n",
    "    return print(f'** Calculation Failed (result below shows the best answer) **', f'IV = {VOL}', f'Iteration Num = {NUM_ITERATIONS}', f'Error = {diff}\\n', sep='\\n')\n",
    "\n",
    "        "
   ]
  },
  {
   "cell_type": "code",
   "execution_count": 3,
   "metadata": {},
   "outputs": [
    {
     "name": "stdout",
     "output_type": "stream",
     "text": [
      "IV = -inf%\n",
      "Iteration Num = 15\n",
      "Error = nan\n",
      "\n",
      "IV = 21.66%\n",
      "Iteration Num = 4\n",
      "Error = -2.7219121534471924e-06\n",
      "\n"
     ]
    }
   ],
   "source": [
    "S0 = 273.55\n",
    "K = 257.5\n",
    "T = 10/360\n",
    "r = 0.0155\n",
    "\n",
    "imp_vol_cal('c', 16.15, S0, K, T, r)\n",
    "\n",
    "S0 = 273.55\n",
    "K = 260\n",
    "T = 10/360\n",
    "r = 0.0155\n",
    "\n",
    "imp_vol_cal('c', 14, S0, K, T, r)"
   ]
  },
  {
   "cell_type": "markdown",
   "metadata": {},
   "source": [
    "위에서 베가($\\frac{\\partial V}{\\partial c}$)의 값이 0으로 가기 때문에 IV가 inf로 가게된다"
   ]
  },
  {
   "cell_type": "markdown",
   "metadata": {},
   "source": [
    "# 2. Thomas Algorithm"
   ]
  },
  {
   "cell_type": "code",
   "execution_count": 4,
   "metadata": {},
   "outputs": [],
   "source": [
    "def thomas(a,b,c,d):\n",
    "    \"\"\" A is the tridiagnonal coefficient matrix and d is the RHS matrix\"\"\"\n",
    "    N = len(a)\n",
    "    cp = np.zeros(N,dtype='float64') \n",
    "    dp = np.zeros(N,dtype='float64') \n",
    "    X = np.zeros(N,dtype='float64') \n",
    "    \n",
    "    cp[0] = c[0]/b[0]  \n",
    "    dp[0] = d[0]/b[0]\n",
    "\n",
    "    for i in np.arange(1,(N),1):\n",
    "        dnum = b[i] - a[i]*cp[i-1]\n",
    "        cp[i] = c[i]/dnum\n",
    "        dp[i] = (d[i]-a[i]*dp[i-1])/dnum\n",
    "    \n",
    "    X[(N-1)] = dp[N-1] \n",
    "\n",
    "    for i in np.arange((N-2),-1,-1): \n",
    "        X[i] = (dp[i]) - (cp[i])*(X[i+1])\n",
    "    \n",
    "    return print('The Values of x are:', np.round(X, 3), sep=' ')"
   ]
  },
  {
   "cell_type": "code",
   "execution_count": 5,
   "metadata": {},
   "outputs": [
    {
     "name": "stdout",
     "output_type": "stream",
     "text": [
      "The Values of x are: [  1.596   0.202   1.99   -3.182  18.926 -18.676]\n"
     ]
    }
   ],
   "source": [
    "a = [0, -2, 0.5, -2, 1, 1]\n",
    "b = [1, 1, 1, 1, 0.2, 1]\n",
    "c = [2, 1, 0.5, 0.5, 0.3, 0]\n",
    "d = [2, -1, 0.5, 2.3, -5, 0.25]\n",
    "\n",
    "thomas(a, b, c, d)"
   ]
  },
  {
   "cell_type": "markdown",
   "metadata": {},
   "source": [
    "정답\n",
    "\n",
    "$$\\begin{pmatrix}1.596& 0.202&1.990&-3.182&18.926&-18.676 \\end{pmatrix}$$"
   ]
  },
  {
   "cell_type": "markdown",
   "metadata": {},
   "source": []
  }
 ],
 "metadata": {
  "kernelspec": {
   "display_name": "Python 3.8.13 ('quant')",
   "language": "python",
   "name": "python3"
  },
  "language_info": {
   "codemirror_mode": {
    "name": "ipython",
    "version": 3
   },
   "file_extension": ".py",
   "mimetype": "text/x-python",
   "name": "python",
   "nbconvert_exporter": "python",
   "pygments_lexer": "ipython3",
   "version": "3.8.13"
  },
  "orig_nbformat": 4,
  "vscode": {
   "interpreter": {
    "hash": "e7b6214bfe3ce19b2336b5ee82fe9739f68968628bd5eb86b17deae08d37c2fd"
   }
  }
 },
 "nbformat": 4,
 "nbformat_minor": 2
}
