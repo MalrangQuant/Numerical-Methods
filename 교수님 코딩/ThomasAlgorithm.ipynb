{
 "cells": [
  {
   "cell_type": "code",
   "execution_count": 1,
   "id": "2e8145cc-c7de-459c-9bd5-2581ab2ad918",
   "metadata": {},
   "outputs": [
    {
     "name": "stdout",
     "output_type": "stream",
     "text": [
      "[ 1.00102983e+00 -2.05965909e-03  7.20880682e-03  9.73224432e-01\n",
      " -3.15696023e+00  1.13565341e+00]\n",
      "[ 2.   -1.    0.5   2.3  -5.    0.25]\n"
     ]
    }
   ],
   "source": [
    "# Thomas Algorithm\n",
    "\n",
    "import numpy as np\n",
    "\n",
    "def Thomas_Algorithm(a, b, c, d):\n",
    "\n",
    "    ne = len(d) # number of equations\n",
    "    ac, bc, cc, dc = map(np.array, (a, b, c, d)) # copy arrays\n",
    "    for it in range(1, ne):   \n",
    "        ac[it] = a[it] - b[it]*(c[it-1]/ac[it-1]) \n",
    "        dc[it] = d[it] - b[it]*(dc[it-1]/ac[it-1])\n",
    "\n",
    "    xc = np.zeros(ne)\n",
    "    xc[-1] = dc[-1]/ac[-1]\n",
    "    for il in range(ne-2, -1, -1):\n",
    "        xc[il] = (dc[il]/ac[il]) - (c[il]/ac[il])*xc[il+1]\n",
    "\n",
    "    return xc \n",
    "\n",
    "#Example\n",
    "a = [2.0, 3.0, 2.0, 4.0, 2, 3.0]\n",
    "b = [0, -1, 0.5, -2, 1, 1]\n",
    "c = [1, 1, 0.5, 0.5, 0.3, 0]\n",
    "d = [2, -1, 0.5, 2.3, -5, 0.25]\n",
    "\n",
    "sol = Thomas_Algorithm(a, b, c, d)\n",
    "print(sol)\n",
    "\n",
    "ne = len(a)\n",
    "s = np.zeros(ne)\n",
    "s[0] = a[0]*sol[0] + c[0]*sol[1]\n",
    "s[1] = b[1]*sol[0] + a[1]*sol[1] + c[1]*sol[2]\n",
    "s[2] = b[2]*sol[1] + a[2]*sol[2] + c[2]*sol[3]\n",
    "s[3] = b[3]*sol[2] + a[3]*sol[3] + c[3]*sol[4]\n",
    "s[4] = b[4]*sol[3] + a[4]*sol[4] + c[4]*sol[5]\n",
    "s[5] = b[5]*sol[4] + a[5]*sol[5] \n",
    "\n",
    "print(s)"
   ]
  },
  {
   "cell_type": "code",
   "execution_count": null,
   "id": "afeb74e5-4833-4f65-bec4-31348ce407d6",
   "metadata": {},
   "outputs": [],
   "source": []
  },
  {
   "cell_type": "code",
   "execution_count": null,
   "id": "7ab0d2b2-4437-4a9d-a3f9-dc45575dfe0d",
   "metadata": {},
   "outputs": [],
   "source": []
  }
 ],
 "metadata": {
  "kernelspec": {
   "display_name": "Python 3 (ipykernel)",
   "language": "python",
   "name": "python3"
  },
  "language_info": {
   "codemirror_mode": {
    "name": "ipython",
    "version": 3
   },
   "file_extension": ".py",
   "mimetype": "text/x-python",
   "name": "python",
   "nbconvert_exporter": "python",
   "pygments_lexer": "ipython3",
   "version": "3.9.7"
  }
 },
 "nbformat": 4,
 "nbformat_minor": 5
}
