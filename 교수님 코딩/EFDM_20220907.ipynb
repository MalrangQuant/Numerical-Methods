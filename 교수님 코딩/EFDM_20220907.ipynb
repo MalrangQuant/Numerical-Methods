{
 "cells": [
  {
   "cell_type": "code",
   "execution_count": 16,
   "id": "34d39c08-febc-401c-b577-17c68584816a",
   "metadata": {},
   "outputs": [
    {
     "name": "stdout",
     "output_type": "stream",
     "text": [
      "10\n",
      "alpha= 0.050\n",
      "EFDM Price :  0.6571\n",
      "Exact BS Price :  0.6889\n"
     ]
    },
    {
     "data": {
      "image/png": "[encoded data removed]",
      "text/plain": [
       "<Figure size 432x288 with 1 Axes>"
      ]
     },
     "metadata": {
      "needs_background": "light"
     },
     "output_type": "display_data"
    }
   ],
   "source": [
    "# Black and Scholes Option Price Using EFDM written at 2022/06/28\n",
    "\n",
    "import numpy as np\n",
    "import matplotlib.pyplot as plt\n",
    "from scipy.stats import norm\n",
    "\n",
    "def BSprice(PutCall, x0, T, K, rf, q, sigma):\n",
    "    d1 =(1/(sigma*np.sqrt(T)))*(np.log(x0/K) + (rf - q + 0.5*sigma**2)*T)\n",
    "    d2 = (1/(sigma*np.sqrt(T)))*(np.log(x0/K) + (rf - q - 0.5*sigma**2)*T)\n",
    "    Nd1 = norm.cdf(d1)\n",
    "    Nd2 = norm.cdf(d2)\n",
    "    Nd1m = norm.cdf(-d1)\n",
    "    Nd2m = norm.cdf(-d2)\n",
    "    \n",
    "    if PutCall == 'C':\n",
    "        price1 = x0*np.exp(-q*T)*Nd1 - K*np.exp(-rf*T)*Nd2\n",
    "        price2 = np.exp(-q*T)*Nd1\n",
    "    elif PutCall =='P':\n",
    "        price1 = K*np.exp(-rf*T)*Nd2m - x0*np.exp(-q*T)*Nd1m\n",
    "        price2 = -np.exp(-q*T)*Nd1m\n",
    "\n",
    "    # price = [price1, price2]=[price,delta]\n",
    "    price = np.zeros((1,2))\n",
    "    price[0,0] = price1\n",
    "    price[0,1] = price2\n",
    "    return price                # returns array\n",
    "\n",
    "\n",
    "def EFDM(PutCall,xmin,K,rf,q,sigma,dt,dx,N,M):\n",
    "    xh = np.array(list(range(M+1)))                                         # number of node: M+1 from 0 to M\n",
    "    tk = np.array(list(range(N+1)))\n",
    "\n",
    "    v = np.zeros((N+1,M+1))                                                 # value at note (shape:(N+1,M+1))\n",
    "    \n",
    "    # BC at expiration (n=0)\n",
    "    if PutCall == 'C':\n",
    "        v[0,0:M+1] = np.maximum(xmin + xh*dx - K, 0)\n",
    "    elif PutCall =='P':\n",
    "        v[0,0:M+1] = np.maximum(K - (xmin + xh*dx), 0)\n",
    "        \n",
    "    # BC at x = Smax or Smin (m=M or m=0)\n",
    "    if PutCall =='C':\n",
    "        v[0:N+1,0] = 0                                                         # call value when underlying is 0\n",
    "        v[0:N+1,M] = (xmin + M*dx - K)*np.exp(-q*tk*dt)                        # call value when underlying is large \n",
    "    elif PutCall == 'P':\n",
    "        v[0:N+1,0] = K*np.exp(-rf*tk*dt)                                        # put value when underlying is 0\n",
    "        v[0:N+1,M] = 0                                                          # put value when underlying is large \n",
    "\n",
    "    # Coefficients of matrix for EFDM\n",
    "    DF = 1/(1 + dt*rf)\n",
    "    a = DF*(1 - dt*(sigma**2)*(xh**2))\n",
    "    b = DF*(dt/2)*(-(rf-q)*xh + (sigma**2)*(xh**2))\n",
    "    c = DF*(dt/2)*((rf-q)*xh + (sigma**2)*(xh**2))\n",
    "    \n",
    "    # Finding value at N+1 \n",
    "    for i in range (0,N):\n",
    "        v[i+1,1:M] = np.multiply(b[1:M],v[i,0:M-1]) + np.multiply(a[1:M],v[i,1:M]) + np.multiply(c[1:M],v[i,2:M+1])\n",
    "        \n",
    "    price = np.zeros(M+1)\n",
    "    price = v[N,0:M+1]\n",
    "    return price\n",
    "\n",
    "PutCall = 'C'\n",
    "x0 = 10\n",
    "K = 10\n",
    "rf = 0.05\n",
    "q = 0\n",
    "sigma = 0.2\n",
    "T = 0.5\n",
    "\n",
    "xmin = 0\n",
    "xmax = x0*(1 + 5*sigma)       # Smax = s0*(1 + 5*sigma)\n",
    "N = 10                        # numer of time point\n",
    "M = 20                        # numer of stock price point \n",
    "dx = (xmax-xmin)/M            # S-mesh size\n",
    "dt = T/N                      # t-mesh size\n",
    "\n",
    "alpha = dt/(dx)**2            # alpha < 1/2 for stability\n",
    "x0tag = 0\n",
    "for i in range(M + 1):\n",
    "    if i*dx < x0:\n",
    "        x0tag += 1\n",
    "print(x0tag)\n",
    "\n",
    "# Plain Vanillar Option \n",
    "EFDMprice = EFDM(PutCall,xmin,K,rf,q,sigma,dt,dx,N,M)\n",
    "\n",
    "BSEprice = BSprice(PutCall,x0,T,K,rf,q,sigma)\n",
    "\n",
    "print('alpha=',\"%.3f\" %alpha)\n",
    "print('EFDM Price : ', \"%.4f\" %EFDMprice[x0tag])\n",
    "print('Exact BS Price : ', \"%.4f\" %BSEprice[0,0])\n",
    "\n",
    "# Plotting\n",
    "x = np.linspace(xmin, xmax, M+1)\n",
    "plt.xlabel('stock price')\n",
    "plt.title('Explicit FDM Option Prices')\n",
    "plt.plot(x, EFDMprice[:])\n",
    "plt.scatter(x[x0tag], EFDMprice[x0tag])\n",
    "plt.show()"
   ]
  },
  {
   "cell_type": "code",
   "execution_count": 17,
   "id": "2e362054-c371-424a-a5f3-8458a270b7c6",
   "metadata": {},
   "outputs": [
    {
     "name": "stdout",
     "output_type": "stream",
     "text": [
      "Delta at current price :  0.7315\n",
      "Exact Delta :  0.5977\n"
     ]
    },
    {
     "data": {
      "image/png": "[encoded data removed]",
      "text/plain": [
       "<Figure size 432x288 with 1 Axes>"
      ]
     },
     "metadata": {
      "needs_background": "light"
     },
     "output_type": "display_data"
    }
   ],
   "source": [
    "# Delta calculation\n",
    "\n",
    "delta = (EFDMprice[1:M+1] - EFDMprice[0:M])/dx\n",
    "print('Delta at current price : ', \"%.4f\" %delta[x0tag])\n",
    "\n",
    "# BS CLosed-form Delta\n",
    "print('Exact Delta : ', \"%.4f\" %BSEprice[0,1])\n",
    "\n",
    "x = np.linspace(xmin+1, xmax, M)\n",
    "plt.xlabel('stock price')\n",
    "plt.title('Explicit FDM Option Delta')\n",
    "plt.scatter(x[x0tag], delta[x0tag])\n",
    "plt.plot(x,delta[:])\n",
    "plt.show()\n"
   ]
  },
  {
   "cell_type": "code",
   "execution_count": 14,
   "id": "168c74bb-c2d8-418d-af9b-2a3133de3658",
   "metadata": {},
   "outputs": [
    {
     "name": "stdout",
     "output_type": "stream",
     "text": [
      "absolute error 0.032\n",
      "relative error 4.607 %\n"
     ]
    }
   ],
   "source": [
    "# Error\n",
    "Error = BSEprice[0,0] - EFDMprice[x0tag] \n",
    "relError = (Error/BSEprice[0,0])*100\n",
    "print('absolute error', \"%.3f\" %Error)\n",
    "print('relative error', \"%.3f\" %relError, '%')"
   ]
  },
  {
   "cell_type": "code",
   "execution_count": null,
   "id": "a2a3b6c4-2f09-4b14-8bb7-f9291f023798",
   "metadata": {},
   "outputs": [],
   "source": []
  }
 ],
 "metadata": {
  "kernelspec": {
   "display_name": "Python 3.9.12 64-bit",
   "language": "python",
   "name": "python3"
  },
  "language_info": {
   "codemirror_mode": {
    "name": "ipython",
    "version": 3
   },
   "file_extension": ".py",
   "mimetype": "text/x-python",
   "name": "python",
   "nbconvert_exporter": "python",
   "pygments_lexer": "ipython3",
   "version": "3.10.7"
  },
  "vscode": {
   "interpreter": {
    "hash": "b0fa6594d8f4cbf19f97940f81e996739fb7646882a419484c72d19e05852a7e"
   }
  }
 },
 "nbformat": 4,
 "nbformat_minor": 5
}
