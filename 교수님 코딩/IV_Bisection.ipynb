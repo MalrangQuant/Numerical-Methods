{
 "cells": [
  {
   "cell_type": "code",
   "execution_count": 5,
   "id": "2de26d42-00fb-473f-9988-187dff0f74bc",
   "metadata": {},
   "outputs": [
    {
     "name": "stdout",
     "output_type": "stream",
     "text": [
      "IV:  0.13675098419189452\n",
      "Number of Iteration:  17\n",
      "Error:  9.5367431640625e-07\n"
     ]
    }
   ],
   "source": [
    "# Bisection Algorithm for Implied Volatility \n",
    "\n",
    "import numpy as np\n",
    "from scipy.stats import norm\n",
    "\n",
    "def BSprice(PutCall, s0, K, r, q, ttm, sigma):    \n",
    "    d1 =( 1/(sigma*np.sqrt(ttm)))*(np.log(s0/K) + (r + 0.5*sigma**2)*ttm)\n",
    "    d2 = (1/(sigma*np.sqrt(ttm)))*(np.log(s0/K) + (r - 0.5*sigma**2)*ttm)\n",
    "    if PutCall == 'C':\n",
    "        Nd1 = norm.cdf(d1)\n",
    "        Nd2 = norm.cdf(d2)\n",
    "        BSprice = s0*np.exp(-q*ttm)*Nd1 - K*np.exp(-r*ttm)*Nd2\n",
    "    elif PutCall == 'P':\n",
    "        Nd1 = norm.cdf(-d1)\n",
    "        Nd2 = norm.cdf(-d2)\n",
    "        BSprice = K*np.exp(-r*ttm)*Nd2 - s0*np.exp(-q*ttm)*Nd1\n",
    "    return BSprice\n",
    "    \n",
    "MaxIter = 1000\n",
    "TOL = 0.000001\n",
    "iter = 0\n",
    "\n",
    "# Input Parameters\n",
    "s0 = 415.89\n",
    "K = 420\n",
    "r = 0.0092\n",
    "q = 0\n",
    "ttm = 42/360\n",
    "cm = 6.09\n",
    "pm = 8.13\n",
    "PutCall = 'C'\n",
    "\n",
    "# Initial Points\n",
    "a = 0.05\n",
    "b = 0.3\n",
    "\n",
    "if PutCall == 'C':\n",
    "    fa = BSprice(PutCall, s0, K, r, q, ttm, a) - cm\n",
    "    fb = BSprice(PutCall, s0, K, r, q, ttm, b) - cm\n",
    "elif PutCall == 'P':\n",
    "    fa = BSprice(PutCall, s0, K, r, q, ttm, a) - pm\n",
    "    fb = BSprice(PutCall, s0, K, r, q, ttm, b) - pm\n",
    "\n",
    "if fa*fb > 0: \n",
    "    print(\"Error!! it must be fa*fb<0.\")\n",
    "\n",
    "for i in range(MaxIter):\n",
    "    xm = (a + b)/2\n",
    "    if PutCall == 'C': \n",
    "        fm = BSprice(PutCall, s0, K, r, q, ttm, xm) - cm\n",
    "    elif PutCall == 'P': \n",
    "        fm = BSprice(PutCall, s0, K, r, q, ttm, xm) - pm\n",
    "    err = (b - a)/2\n",
    "    if fm*fa > 0:\n",
    "        a, fa = xm, fm\n",
    "    else:\n",
    "        b, fb = xm, fm\n",
    "    if abs(fm) < TOL or abs(err) < TOL:\n",
    "        break\n",
    "    iter = iter + 1\n",
    "    if iter >= MaxIter:\n",
    "        print(\"Maximum Iteration exceeds\")\n",
    "\n",
    "print(\"IV: \", xm)\n",
    "print(\"Number of Iteration: \", iter)\n",
    "print(\"Error: \", err)"
   ]
  },
  {
   "cell_type": "code",
   "execution_count": null,
   "id": "ae005e32-5419-43c7-8d95-dba96210585b",
   "metadata": {},
   "outputs": [],
   "source": []
  },
  {
   "cell_type": "code",
   "execution_count": null,
   "id": "14156ae1-a728-4bb7-a71c-e8a48040771b",
   "metadata": {},
   "outputs": [],
   "source": []
  },
  {
   "cell_type": "code",
   "execution_count": null,
   "id": "3420e6dd-6003-49fa-a455-81df4b7359c8",
   "metadata": {},
   "outputs": [],
   "source": []
  },
  {
   "cell_type": "code",
   "execution_count": null,
   "id": "97fde826-fd73-4967-a0fb-f73157d5af1d",
   "metadata": {},
   "outputs": [],
   "source": []
  }
 ],
 "metadata": {
  "kernelspec": {
   "display_name": "Python 3 (ipykernel)",
   "language": "python",
   "name": "python3"
  },
  "language_info": {
   "codemirror_mode": {
    "name": "ipython",
    "version": 3
   },
   "file_extension": ".py",
   "mimetype": "text/x-python",
   "name": "python",
   "nbconvert_exporter": "python",
   "pygments_lexer": "ipython3",
   "version": "3.9.7"
  }
 },
 "nbformat": 4,
 "nbformat_minor": 5
}
