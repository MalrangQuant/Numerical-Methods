{
 "cells": [
  {
   "cell_type": "code",
   "execution_count": 1,
   "id": "2de26d42-00fb-473f-9988-187dff0f74bc",
   "metadata": {},
   "outputs": [
    {
     "name": "stdout",
     "output_type": "stream",
     "text": [
      "IV:  0.1367515177315333\n",
      "Number of Iteration:  3\n",
      "Error:  -5.370537348170501e-12\n"
     ]
    }
   ],
   "source": [
    "# Newton-Raphson Algorithm for Implied Volatility \n",
    "\n",
    "import numpy as np\n",
    "from scipy.stats import norm\n",
    "import math\n",
    "\n",
    "def BSprice(PutCall, s0, K, r, q, ttm, sigma):    \n",
    "    d1 =( 1/(sigma*np.sqrt(ttm)))*(np.log(s0/K) + (r - q + 0.5*sigma**2)*ttm)\n",
    "    d2 = (1/(sigma*np.sqrt(ttm)))*(np.log(s0/K) + (r - q - 0.5*sigma**2)*ttm)\n",
    "    if PutCall == 'C':\n",
    "        Nd1 = norm.cdf(d1)\n",
    "        Nd2 = norm.cdf(d2)\n",
    "        BSprice = s0*np.exp(-q*ttm)*Nd1 - K*np.exp(-r*ttm)*Nd2\n",
    "    elif PutCall == 'P':\n",
    "        Nd1 = norm.cdf(-d1)\n",
    "        Nd2 = norm.cdf(-d2)\n",
    "        BSprice = K*np.exp(-r*ttm)*Nd2 - s0*np.exp(-q*ttm)*Nd1\n",
    "    return BSprice\n",
    "    \n",
    "MaxIter = 1000\n",
    "TOL = 0.000001\n",
    "iter = 0\n",
    "\n",
    "# Input Parameters\n",
    "s0 = 415.89\n",
    "K = 420\n",
    "r = 0.0092\n",
    "q = 0\n",
    "ttm = 42/360\n",
    "cm = 6.09\n",
    "pm = 8.13\n",
    "PutCall = 'C'\n",
    "\n",
    "# Initial Volatility\n",
    "v0 = 0.05\n",
    "\n",
    "for i in range(MaxIter):\n",
    "    if PutCall == 'C': \n",
    "        f0 = BSprice(PutCall, s0, K, r, q, ttm, v0) - cm\n",
    "    elif PutCall == 'P': \n",
    "        f0 = BSprice(PutCall, s0, K, r, q, ttm, v0) - pm\n",
    "    \n",
    "    d1 =(1/(v0*np.sqrt(ttm)))*(np.log(s0/K) + (r - q + 0.5*v0**2)*ttm);\n",
    "    dd1 = np.exp(-(d1**2)/2)/np.sqrt(2*math.pi);\n",
    "    vega = s0*dd1*np.sqrt(ttm);\n",
    "    \n",
    "    if vega == 0:\n",
    "        print(\"vega is zero.\")\n",
    "        break\n",
    " \n",
    "    v = v0 - f0/vega\n",
    "    err = v - v0\n",
    "    \n",
    "    if abs(f0) < TOL or abs(err) < TOL:\n",
    "        break\n",
    "    else: \n",
    "        v0 = v\n",
    "    iter = iter + 1\n",
    "    if iter >= MaxIter:\n",
    "        break\n",
    "        print(\"Maximum Iteration exceeds\")\n",
    "\n",
    "print(\"IV: \", v)\n",
    "print(\"Number of Iteration: \", iter)\n",
    "print(\"Error: \", err)"
   ]
  },
  {
   "cell_type": "code",
   "execution_count": null,
   "id": "ae005e32-5419-43c7-8d95-dba96210585b",
   "metadata": {},
   "outputs": [],
   "source": []
  },
  {
   "cell_type": "code",
   "execution_count": null,
   "id": "6597ff5a-9276-47aa-a163-687642a32076",
   "metadata": {},
   "outputs": [],
   "source": []
  }
 ],
 "metadata": {
  "kernelspec": {
   "display_name": "Python 3 (ipykernel)",
   "language": "python",
   "name": "python3"
  },
  "language_info": {
   "codemirror_mode": {
    "name": "ipython",
    "version": 3
   },
   "file_extension": ".py",
   "mimetype": "text/x-python",
   "name": "python",
   "nbconvert_exporter": "python",
   "pygments_lexer": "ipython3",
   "version": "3.9.7"
  }
 },
 "nbformat": 4,
 "nbformat_minor": 5
}
