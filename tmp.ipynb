{
 "cells": [
  {
   "cell_type": "code",
   "execution_count": 4,
   "metadata": {},
   "outputs": [],
   "source": [
    "import numpy as np"
   ]
  },
  {
   "cell_type": "code",
   "execution_count": null,
   "metadata": {},
   "outputs": [],
   "source": []
  },
  {
   "cell_type": "code",
   "execution_count": 52,
   "metadata": {},
   "outputs": [],
   "source": [
    "s0 = 100\n",
    "r = 0.02594\n",
    "q = 0\n",
    "vol = 0.2803"
   ]
  },
  {
   "cell_type": "code",
   "execution_count": 38,
   "metadata": {},
   "outputs": [
    {
     "data": {
      "text/plain": [
       "1.0"
      ]
     },
     "execution_count": 38,
     "metadata": {},
     "output_type": "execute_result"
    }
   ],
   "source": [
    "dx = 0.01 * 100\n",
    "h = dx\n",
    "Nx = 500\n",
    "h"
   ]
  },
  {
   "cell_type": "code",
   "execution_count": 15,
   "metadata": {},
   "outputs": [],
   "source": [
    "m = 500 #가격 Mesh (세로축)\n",
    "N = 50 #시간 Mesh (가로축)"
   ]
  },
  {
   "cell_type": "code",
   "execution_count": 14,
   "metadata": {},
   "outputs": [
    {
     "data": {
      "text/plain": [
       "(0, 500.0)"
      ]
     },
     "execution_count": 14,
     "metadata": {},
     "output_type": "execute_result"
    }
   ],
   "source": [
    "Smax = m * dx\n",
    "Smin = 0\n",
    "\n",
    "Smin, Smax"
   ]
  },
  {
   "cell_type": "code",
   "execution_count": 21,
   "metadata": {},
   "outputs": [],
   "source": [
    "T = 3\n",
    "N = 50\n",
    "Nt = 6*N\n",
    "\n",
    "dt = T/Nt\n",
    "k = dt\n"
   ]
  },
  {
   "cell_type": "code",
   "execution_count": 23,
   "metadata": {},
   "outputs": [],
   "source": [
    "cr = np.array([0.035, 0.07, 0.105, 0.14, 0.175, 0.21])\n",
    "K = np.array([0.95, 0.90, 0.85, 0.80, 0.75, 0.75])\n",
    "early_redemption = np.array([0.5, 1, 1.5, 2, 2.5, 3])"
   ]
  },
  {
   "cell_type": "code",
   "execution_count": 43,
   "metadata": {},
   "outputs": [],
   "source": [
    "Barrier = 50\n",
    "Rtag = 2 * early_redemption * N\n",
    "s0tag = 0\n",
    "Barriertag = 0"
   ]
  },
  {
   "cell_type": "code",
   "execution_count": 51,
   "metadata": {},
   "outputs": [
    {
     "data": {
      "text/plain": [
       "501"
      ]
     },
     "execution_count": 51,
     "metadata": {},
     "output_type": "execute_result"
    }
   ],
   "source": []
  },
  {
   "cell_type": "code",
   "execution_count": 69,
   "metadata": {},
   "outputs": [],
   "source": [
    "a, b, c, d = np.zeros(m-1), np.zeros(m-1), np.zeros(m-1), np.zeros(m-1), #Mesh 만들기\n",
    "S = np.linspace(Smin, Smax, m+1) # 0 ~ 500 까지\n",
    "x = S/s0 #기초자산 가격으로 Scaling\n",
    "\n",
    "u = np.zeros((Nt+1, Nx+1))\n",
    "w = np.zeros((Nt+1, Nx+1))\n",
    "\n",
    "for i in range(Nx+1):\n",
    "    if (i*dx <= s0):\n",
    "        s0tag = i+1\n",
    "\n",
    "    if (i*dx <= s0 * Barrier):\n",
    "        Barriertag = i+1\n",
    "\n",
    "a = k/2 * ((r-q) + (vol*S[1:-1]/h)**2)\n",
    "b = k/4 * ((r*S[1:-1])/h - (vol*S[1:-1]/h)**2)\n",
    "c = k/4 * (-(r*S[1:-1])/h - (vol*S[1:-1]/h)**2)\n",
    "\n",
    "'''Barrier Term'''\n",
    "\n",
    "for k in range(Nx+1):\n",
    "\n",
    "    if (x[k] > Barrier):\n",
    "        u[0, k] = ( 1 + cr[5] )\n",
    "    \n",
    "    else:\n",
    "        u[0, k] = x[k]\n",
    "\n",
    "    if (x[k] > K[5]):\n",
    "        w[0, k] = (1 + cr[5])\n",
    "    \n",
    "    else:\n",
    "        w[0, k] = x[k]\n",
    "\n",
    "'''그냥'''\n",
    "\n",
    "for i in range(1, Nt+1):\n",
    "\n",
    "    d1 = u[i-1, 1:Nx]\n",
    "    d1[0] = -b[0] * u[i,0] + ()"
   ]
  },
  {
   "cell_type": "code",
   "execution_count": null,
   "metadata": {},
   "outputs": [],
   "source": [
    "def CNFDMf(PutCall,xmin,K,rf,q,sigma,dt,dx,N,M):\n",
    "    xh = np.array(list(range(M+1)))                                         # number of node: M+1\n",
    "    tk = np.array(list(range(N+1)))\n",
    "    \n",
    "    v = np.zeros((N+1,M+1))                                                 # solution (shape:(N+1,M+1))\n",
    "    \n",
    "    # BC at expiration (n=0)\n",
    "    if PutCall == 'C':\n",
    "        v[0,0:M+1] = np.maximum(xmin + xh*dx - K, 0)\n",
    "    elif PutCall =='P':\n",
    "        v[0,0:M+1] = np.maximum(K - (xmin + xh*dx), 0)\n",
    "        \n",
    "    # BC at x = Smax or Smin (m=M or m=0)\n",
    "    if PutCall =='C':\n",
    "        v[0:N+1,0] = 0                                                         # call value when underlying is 0\n",
    "        v[0:N+1,M] = (xmin + M*dx)*np.exp(-q*tk*dt) - K*np.exp(-rf*tk*dt)      # call value when underlying is large \n",
    "    elif PutCall == 'P':\n",
    "        v[0:N+1,0] = K*np.exp(-rf*tk*dt)                                        # put value when underlying is 0\n",
    "        v[0:N+1,M] = 0                                                          # put value when underlying is large \n",
    "\n",
    "    \n",
    "    # Coefficients of matrix for CNFDM\n",
    "    a = (dt/2)*(rf + (sigma**2)*(xh**2))\n",
    "    b = (dt/4)*((rf-q)*xh - (sigma**2)*(xh**2))\n",
    "    c = -(dt/4)*((rf-q)*xh + (sigma**2)*(xh**2))\n",
    "\n",
    "    # a-(b+c)>0, the matrix is strictly diagonally dominant\n",
    "    d = np.zeros(M+1)\n",
    "    \n",
    "    for n in range (0,N):         \n",
    "        d[1:M] = - np.multiply(b[1:M],v[n,0:M-1]) + np.multiply(1-a[1:M],v[n,1:M]) - np.multiply(c[1:M],v[n,2:M+1])\n",
    "        d[1] = d[1] - b[1]*v[n+1,0]\n",
    "        d[M-1] = d[M-1] - c[M-1]*v[n+1,M]       \n",
    "        v[n+1,1:M] = Thomas_Algorithm(1 + a[1:M],b[1:M],c[1:M],d[1:M])\n",
    "\n",
    "    price = np.zeros(M+1)\n",
    "    price = v[N,0:M+1]\n",
    "    return price\n",
    "\n",
    "\n",
    "CNFDMf('P', 0, )"
   ]
  }
 ],
 "metadata": {
  "kernelspec": {
   "display_name": "Python 3.9.12 64-bit",
   "language": "python",
   "name": "python3"
  },
  "language_info": {
   "codemirror_mode": {
    "name": "ipython",
    "version": 3
   },
   "file_extension": ".py",
   "mimetype": "text/x-python",
   "name": "python",
   "nbconvert_exporter": "python",
   "pygments_lexer": "ipython3",
   "version": "3.9.12"
  },
  "orig_nbformat": 4,
  "vscode": {
   "interpreter": {
    "hash": "b0fa6594d8f4cbf19f97940f81e996739fb7646882a419484c72d19e05852a7e"
   }
  }
 },
 "nbformat": 4,
 "nbformat_minor": 2
}
